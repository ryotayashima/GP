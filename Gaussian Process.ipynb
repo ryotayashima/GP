{
 "cells": [
  {
   "cell_type": "markdown",
   "metadata": {},
   "source": [
    "**Gaussian Process**"
   ]
  },
  {
   "cell_type": "markdown",
   "metadata": {},
   "source": [
    "## Linear Regression (radial basis function regression) and Curse of Demension"
   ]
  },
  {
   "cell_type": "markdown",
   "metadata": {},
   "source": [
    "For example, when think one demensional vector $\\mathbf{x}$ and feature vector $\\phi(\\mathbf{x})=(1,x,x^2,x^3)^T$,  cubic function $y$ of $\\mathbf{x}$ is formulated using weigh $\\mathbf{w}=(w_0,w_1,w_2,w_3)^T$ as\n",
    "$$\n",
    "\\begin{eqnarray}\n",
    "y &= &w_0+w_1x_1+w_2x_2+w_3x_3\\\\\n",
    "   &=&\\mathbf{w}^T\\phi(\\mathbf{x})\\\\\n",
    "\\end{eqnarray}\n",
    "$$\n",
    "If use basis function according to gaussian distribution, i.e.\n",
    "$$\n",
    "\\phi_h(x)=exp\\left(-\\frac{(x-\\mu_h)^2}{\\sigma^2}\\right)\\\\\n",
    "$$\n",
    "and set above $\\mu_h\\in(-H,...,-2,-1,0,1,2,...,H)$ and weight by $w_h\\in\\mathbb{R}$, $y$ is formulated as\n",
    "$$\n",
    "y = \\sum_{n=-H}^{H}w_hexp\\left(-\\frac{(x-\\mu_h)^2}{\\sigma^2}\\right)\\\\\n",
    "$$\n",
    "This way is named as **radial basis function regression**. At a glance, this way seems well, but it has critical issue. In one dimension, size of $\\mu_h$ is $2H+1$, and in two demension, size of $\\mu_h$ is $(2H+1)^2$. As number of dimension increasing, dimension of $\\mathbf{w}$ is larger, and finally become to can not calcurate accurate. This problem is named as **Curse of Dimension**."
   ]
  },
  {
   "cell_type": "markdown",
   "metadata": {},
   "source": [
    "## Gaussian Process"
   ]
  },
  {
   "cell_type": "markdown",
   "metadata": {},
   "source": [
    "### Gaussian Process"
   ]
  },
  {
   "cell_type": "markdown",
   "metadata": {},
   "source": [
    "How should solve this problem? The solution is to take expected value of w and delete w from model  by integrating. Consider the following conditions,\n",
    "$$\n",
    "y =\\Phi\\mathbf{w}\\\\\n",
    "w\\sim\\mathcal{N}(\\mathbf{0},\\lambda^2\\mathbf{I})\n",
    "$$\n",
    "They meen **${y}$ is that vector $w$ according to gauusian distribution transformed by constant matrix $\\Phi$**. So, $y$ is according to gaussian distribution too. For this, expected value $\\mathbb{E}[\\mathbf{y}]$ and $\\Sigma$ is formulated as\n",
    "$$\n",
    "\\mathbb{E}[\\mathbf{y}]=\\mathbb{E}[\\Phi\\mathbf{w}]=\\Phi\\mathbb{E}[\\mathbf{w}]=0\\\\\n",
    "\\begin{eqnarray}\n",
    "\\Sigma&=&\\mathbb{E}[\\mathbf{yy}^T]-\\mathbb{E}[\\mathbf{y}]\\mathbb{E}[\\mathbf{y}^T]\\\\\n",
    "&=&\\mathbb{E}[(\\Phi\\mathbf{w})(\\Phi\\mathbf{w})^T]\\\\\n",
    "&=&\\Phi\\mathbb{E}[\\mathbf{ww}^T]\\Phi^T\\\\\n",
    "&=&\\lambda^2\\Phi\\Phi^T\n",
    "\\end{eqnarray}\n",
    "$$\n",
    "As a result, distribution of $\\mathbf{y}$ is according to multiple gaussian distribution\n",
    "$$\n",
    "\\mathbf{y}\\sim\\mathcal{N}(\\mathbf{0},\\lambda^2\\Phi\\Phi^T)=\\mathcal{N}(\\mathbf{0},\\mathbf{K})\n",
    "$$\n",
    "This relation is **named Gaussian** Process, and it means **gaussian distribution of infinite dimension** i.e.  **if $\\mathbf{w}$ is according to gaussian distribution, $\\mathbf{y}$ is according to Gaussian Process.** "
   ]
  },
  {
   "cell_type": "markdown",
   "metadata": {},
   "source": [
    "### Kernel Trick (Kernel function) "
   ]
  },
  {
   "cell_type": "markdown",
   "metadata": {},
   "source": [
    "Distribution of $y$ is determined only by covariance matrix $\\mathbf{K}$'s component, i.e.\n",
    "$$\n",
    "K_{nn'}=\\phi(\\mathbf{x}_n)^{\\mathrm{T}}\\phi(\\mathbf{x}_{n'})\\\\\n",
    "$$\n",
    "If can know $K_{nn'}$' s value in advance, do not have to calculate $\\phi(\\mathbf{x})$. Therefore, the function which gives $K_{nn'}$' s value is named **kernel function of $\\mathbf{x}_n$ and $\\mathbf{x}_{n'}$** and is represented as\n",
    "$$\n",
    "k(\\mathbf{x}_n,\\mathbf{x}_{n'})=\\phi(\\mathbf{x}_n)^{\\mathrm{T}}\\phi(\\mathbf{x}_{n'})\\\\\n",
    "$$\n",
    "and covariance matrix $\\mathbf{K}$ is named as **kernel matrix** or **Gram matrix of $\\Phi$**. For kernel function example, **polynomial kernel** which is formulated as\n",
    "$$\n",
    "k(\\mathbf{x},\\mathbf{x}')=(\\mathbf{x}^{\\mathrm{T}}\\mathbf{x}'+1)^2\n",
    "$$\n",
    "If $\\mathbf{x}=(x_1,x_2)^{\\mathrm{T}}$ and $\\mathbf{x}'=(x_1',x_2')^{\\mathrm{T}}$,\n",
    "$$\n",
    "\\begin{eqnarray}\n",
    "k(\\mathbf{x},\\mathbf{x}')&=&(x_1x_1'+x_2x_2'+1)^2\\\\\n",
    "&=&x_1^2x_1'^2+x_2^2x_2'^2+2x_1x_2x_1'x_2'+2x_1x_1'+2x_2x_2'+1\\\\\n",
    "&=&(x_1^2,x_2^2,\\sqrt{2}x_1x_2,\\sqrt{2}x_1,\\sqrt{2}x_2,1)\\cdot(x_1'^2,x_2'^2,\\sqrt{2}x_1'x_2',\\sqrt{2}x_1',\\sqrt{2}x_2',1)\n",
    "\\end{eqnarray}\n",
    "$$\n",
    "So, it meens feature vector $\\phi(\\mathbf{x})=(x_1^2,x_2^2,\\sqrt{2}x_1x_2,\\sqrt{2}x_1,\\sqrt{2}x_2,1)$. Avoiding represent feature vector $\\phi(\\mathbf{x})$ directly and calculating inner product only by kernel function is named as **kernel trick**."
   ]
  },
  {
   "cell_type": "markdown",
   "metadata": {},
   "source": [
    "Note: In some kernel function, feature vector $\\phi(\\mathbf{x})$ is infinite demension. But using kernel function, can calculate kernel matrix easily without representing feature vector $\\phi(\\mathbf{x})$ directly."
   ]
  },
  {
   "cell_type": "markdown",
   "metadata": {},
   "source": [
    "### Accurate definition of Gaussian Process"
   ]
  },
  {
   "cell_type": "markdown",
   "metadata": {},
   "source": [
    "When In any nature number $N$, input vector $\\mathbf{x}_1,\\mathbf{x}_2,...,\\mathbf{x}_N\\in\\chi$ correspond output vector\n",
    "$$\n",
    "\\mathbf{f}=(f(\\mathbf{x}_1),f(\\mathbf{x}_2),...,f(\\mathbf{x}_N))\n",
    "$$\n",
    "and $\\mathbf{f}$ is according to $\\mathcal{N}(\\boldsymbol{\\mu},\\mathbf{K})$, $f$ is called as f **is according to gaussian process** and represetnted as\n",
    "$$\n",
    "f\\sim GP(\\mu(\\mathbf{x}),k(\\mathbf{x},\\mathbf{x}'))\n",
    "$$"
   ]
  },
  {
   "cell_type": "code",
   "execution_count": null,
   "metadata": {},
   "outputs": [],
   "source": []
  }
 ],
 "metadata": {
  "kernelspec": {
   "display_name": "py37",
   "language": "python",
   "name": "py37"
  },
  "language_info": {
   "codemirror_mode": {
    "name": "ipython",
    "version": 3
   },
   "file_extension": ".py",
   "mimetype": "text/x-python",
   "name": "python",
   "nbconvert_exporter": "python",
   "pygments_lexer": "ipython3",
   "version": "3.7.3"
  },
  "toc": {
   "base_numbering": 1,
   "nav_menu": {},
   "number_sections": true,
   "sideBar": true,
   "skip_h1_title": false,
   "title_cell": "Table of Contents",
   "title_sidebar": "Contents",
   "toc_cell": false,
   "toc_position": {},
   "toc_section_display": true,
   "toc_window_display": false
  }
 },
 "nbformat": 4,
 "nbformat_minor": 2
}
